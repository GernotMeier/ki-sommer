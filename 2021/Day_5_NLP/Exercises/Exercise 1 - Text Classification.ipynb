{
 "cells": [
  {
   "cell_type": "code",
   "execution_count": 24,
   "metadata": {
    "ExecuteTime": {
     "end_time": "2020-09-25T06:02:23.071769Z",
     "start_time": "2020-09-25T06:02:22.306725Z"
    }
   },
   "outputs": [],
   "source": [
    "import pandas as pd\n",
    "pd.options.mode.chained_assignment = None  # default='warn'\n",
    "import numpy as np\n"
   ]
  },
  {
   "cell_type": "markdown",
   "metadata": {},
   "source": [
    "## Classification of Job Posts"
   ]
  },
  {
   "cell_type": "markdown",
   "metadata": {},
   "source": [
    "### Reading the data"
   ]
  },
  {
   "cell_type": "code",
   "execution_count": 22,
   "metadata": {
    "ExecuteTime": {
     "end_time": "2020-09-25T06:02:23.087324Z",
     "start_time": "2020-09-25T06:02:23.071769Z"
    }
   },
   "outputs": [],
   "source": [
    "# Helper method: reading data (only column \"job description\" is kept)\n",
    "# param list: a list of labels, only rows with those labels are read in\n",
    "# param name: label that is added to all rows in the data frame\n",
    "def read_all(list, name, path): \n",
    "    posts = pd.DataFrame([], columns = [\"job_description\", \"label\"])\n",
    "    jobs = pd.read_csv(path)\n",
    "    for item in list: \n",
    "        selected = jobs[jobs.category == item]\n",
    "        selected[\"label\"] = name\n",
    "        selected = selected.loc[:,[\"job_description\", \"label\"]]                \n",
    "        posts = posts.append(selected)        \n",
    "    return posts    "
   ]
  },
  {
   "cell_type": "code",
   "execution_count": 25,
   "metadata": {
    "ExecuteTime": {
     "end_time": "2020-09-25T06:02:24.014936Z",
     "start_time": "2020-09-25T06:02:23.087324Z"
    },
    "scrolled": true
   },
   "outputs": [],
   "source": [
    "path = \"./Data/Data Scientist Job Postings/job_posts_jobspikr.csv\"\n",
    "class1 = read_all([\"Engineering-or-architecture\"], \"architecture-and-engineering\", path)\n",
    "class2 = read_all([\"business and financial operations\"], \"business-and-financial\", path)\n",
    "allData = pd.concat([class1, class2])"
   ]
  },
  {
   "cell_type": "code",
   "execution_count": 4,
   "metadata": {
    "ExecuteTime": {
     "end_time": "2020-09-25T06:02:24.054651Z",
     "start_time": "2020-09-25T06:02:24.017067Z"
    }
   },
   "outputs": [
    {
     "data": {
      "text/html": [
       "<div>\n",
       "<style scoped>\n",
       "    .dataframe tbody tr th:only-of-type {\n",
       "        vertical-align: middle;\n",
       "    }\n",
       "\n",
       "    .dataframe tbody tr th {\n",
       "        vertical-align: top;\n",
       "    }\n",
       "\n",
       "    .dataframe thead th {\n",
       "        text-align: right;\n",
       "    }\n",
       "</style>\n",
       "<table border=\"1\" class=\"dataframe\">\n",
       "  <thead>\n",
       "    <tr style=\"text-align: right;\">\n",
       "      <th></th>\n",
       "      <th>job_description</th>\n",
       "      <th>label</th>\n",
       "    </tr>\n",
       "  </thead>\n",
       "  <tbody>\n",
       "    <tr>\n",
       "      <th>2931</th>\n",
       "      <td>Data Scientist\\n\\nWell Data Labs (WDL) is a te...</td>\n",
       "      <td>architecture-and-engineering</td>\n",
       "    </tr>\n",
       "    <tr>\n",
       "      <th>2995</th>\n",
       "      <td>Read what people are saying about working here...</td>\n",
       "      <td>architecture-and-engineering</td>\n",
       "    </tr>\n",
       "    <tr>\n",
       "      <th>3003</th>\n",
       "      <td>\\n\\nSummary\\n\\nRole type: \\n\\nundefined\\n\\nExp...</td>\n",
       "      <td>architecture-and-engineering</td>\n",
       "    </tr>\n",
       "    <tr>\n",
       "      <th>3015</th>\n",
       "      <td>Read what people are saying about working here...</td>\n",
       "      <td>architecture-and-engineering</td>\n",
       "    </tr>\n",
       "    <tr>\n",
       "      <th>3016</th>\n",
       "      <td>Read what people are saying about working here...</td>\n",
       "      <td>architecture-and-engineering</td>\n",
       "    </tr>\n",
       "  </tbody>\n",
       "</table>\n",
       "</div>"
      ],
      "text/plain": [
       "                                        job_description  \\\n",
       "2931  Data Scientist\\n\\nWell Data Labs (WDL) is a te...   \n",
       "2995  Read what people are saying about working here...   \n",
       "3003  \\n\\nSummary\\n\\nRole type: \\n\\nundefined\\n\\nExp...   \n",
       "3015  Read what people are saying about working here...   \n",
       "3016  Read what people are saying about working here...   \n",
       "\n",
       "                             label  \n",
       "2931  architecture-and-engineering  \n",
       "2995  architecture-and-engineering  \n",
       "3003  architecture-and-engineering  \n",
       "3015  architecture-and-engineering  \n",
       "3016  architecture-and-engineering  "
      ]
     },
     "execution_count": 4,
     "metadata": {},
     "output_type": "execute_result"
    }
   ],
   "source": [
    "allData.head()"
   ]
  },
  {
   "cell_type": "markdown",
   "metadata": {},
   "source": [
    "### Feature Extraction"
   ]
  },
  {
   "cell_type": "markdown",
   "metadata": {
    "solution": "shown",
    "solution_first": true
   },
   "source": [
    "#### Ex 1.1: Split the data into training and test data  "
   ]
  },
  {
   "cell_type": "markdown",
   "metadata": {
    "solution": "shown"
   },
   "source": [
    "Hint: use method *train_test_split* of sklearn "
   ]
  },
  {
   "cell_type": "code",
   "execution_count": null,
   "metadata": {
    "ExecuteTime": {
     "end_time": "2020-09-25T08:38:23.691031Z",
     "start_time": "2020-09-25T08:38:23.623933Z"
    }
   },
   "outputs": [],
   "source": []
  },
  {
   "cell_type": "markdown",
   "metadata": {
    "solution": "hidden",
    "solution_first": true
   },
   "source": [
    "#### Ex. 1.2: Build a feature vector for each post with 1 item per word that exists in the document collection and the word counts as vectors (bag-of-words)"
   ]
  },
  {
   "cell_type": "markdown",
   "metadata": {
    "solution": "hidden"
   },
   "source": [
    "* use *CountVectorizer* of sklearn. It has to be fitted first (method *fit*) before it can be applied for transformation (method *transform*) <br>\n",
    "* Fitting has to be done on both datasets together (the training dataset and the test dataset --> concatenate them with pd.concat() as shown above before you give them to the fit-Method) <br>\n",
    "* Then transform both datasets (training data and test data) separately.\n",
    "* Make sure that you only process the job_description column!  "
   ]
  },
  {
   "cell_type": "code",
   "execution_count": null,
   "metadata": {
    "ExecuteTime": {
     "end_time": "2020-09-25T08:40:20.730595Z",
     "start_time": "2020-09-25T08:40:12.377997Z"
    }
   },
   "outputs": [],
   "source": []
  },
  {
   "cell_type": "markdown",
   "metadata": {
    "solution": "shown",
    "solution_first": true
   },
   "source": [
    "#### Ex. 1.3: Use TF-IDF to build the feature vectors instead of word counts"
   ]
  },
  {
   "cell_type": "markdown",
   "metadata": {
    "solution": "shown"
   },
   "source": [
    "* use *TfidfVectorizer*  \n",
    "* proceed as with the CountVectorizer"
   ]
  },
  {
   "cell_type": "code",
   "execution_count": null,
   "metadata": {
    "ExecuteTime": {
     "end_time": "2020-09-25T06:02:27.064477Z",
     "start_time": "2020-09-25T06:02:26.251914Z"
    }
   },
   "outputs": [],
   "source": []
  },
  {
   "cell_type": "markdown",
   "metadata": {},
   "source": [
    "### Training a classifier"
   ]
  },
  {
   "cell_type": "markdown",
   "metadata": {
    "solution": "hidden",
    "solution_first": true
   },
   "source": [
    "#### Ex 2: Train two classifiers, e.g. using SVM (one for each type of feature vector)"
   ]
  },
  {
   "cell_type": "markdown",
   "metadata": {
    "solution": "hidden"
   },
   "source": [
    "Hint: Proceed as learned in the classification session, i.e. instantiate the class, call the fit()-Method on the training data and then the predict()-Method on the test data."
   ]
  },
  {
   "cell_type": "code",
   "execution_count": null,
   "metadata": {
    "ExecuteTime": {
     "end_time": "2020-09-25T06:02:30.838854Z",
     "start_time": "2020-09-25T06:02:27.064477Z"
    }
   },
   "outputs": [],
   "source": []
  },
  {
   "cell_type": "markdown",
   "metadata": {
    "ExecuteTime": {
     "end_time": "2020-09-07T15:05:28.839874Z",
     "start_time": "2020-09-07T15:03:45.492757Z"
    }
   },
   "source": [
    "### Evaluate the classifiers"
   ]
  },
  {
   "cell_type": "markdown",
   "metadata": {
    "solution": "hidden",
    "solution_first": true
   },
   "source": [
    "#### Ex. 3: Evaluate the two classifiers. Which of the two scored better? What type of errors were made most? "
   ]
  },
  {
   "cell_type": "markdown",
   "metadata": {
    "solution": "hidden"
   },
   "source": [
    "Hint: Use methods of ``sklearn.metrics`` like ``accuracy_score``, ``confusion_matrix``"
   ]
  },
  {
   "cell_type": "code",
   "execution_count": null,
   "metadata": {
    "ExecuteTime": {
     "end_time": "2020-09-25T06:02:30.859062Z",
     "start_time": "2020-09-25T06:02:30.840975Z"
    }
   },
   "outputs": [],
   "source": []
  },
  {
   "cell_type": "markdown",
   "metadata": {},
   "source": [
    "### Additional exercises for the pros (only if time permits)"
   ]
  },
  {
   "cell_type": "markdown",
   "metadata": {},
   "source": [
    "#### Ex. 4: Try other types of classifiers (e.g. Random Forest, MultinomialNB) and/or change parameters"
   ]
  },
  {
   "cell_type": "code",
   "execution_count": 12,
   "metadata": {
    "ExecuteTime": {
     "end_time": "2020-09-25T06:02:33.311072Z",
     "start_time": "2020-09-25T06:02:31.757318Z"
    }
   },
   "outputs": [],
   "source": []
  }
 ],
 "metadata": {
  "kernelspec": {
   "display_name": "Python 3",
   "language": "python",
   "name": "python3"
  },
  "language_info": {
   "codemirror_mode": {
    "name": "ipython",
    "version": 3
   },
   "file_extension": ".py",
   "mimetype": "text/x-python",
   "name": "python",
   "nbconvert_exporter": "python",
   "pygments_lexer": "ipython3",
   "version": "3.8.8"
  },
  "varInspector": {
   "cols": {
    "lenName": 16,
    "lenType": 16,
    "lenVar": 40
   },
   "kernels_config": {
    "python": {
     "delete_cmd_postfix": "",
     "delete_cmd_prefix": "del ",
     "library": "var_list.py",
     "varRefreshCmd": "print(var_dic_list())"
    },
    "r": {
     "delete_cmd_postfix": ") ",
     "delete_cmd_prefix": "rm(",
     "library": "var_list.r",
     "varRefreshCmd": "cat(var_dic_list()) "
    }
   },
   "types_to_exclude": [
    "module",
    "function",
    "builtin_function_or_method",
    "instance",
    "_Feature"
   ],
   "window_display": false
  }
 },
 "nbformat": 4,
 "nbformat_minor": 4
}
